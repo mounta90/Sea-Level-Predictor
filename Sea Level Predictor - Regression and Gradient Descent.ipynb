{
 "cells": [
  {
   "cell_type": "code",
   "execution_count": 1,
   "metadata": {},
   "outputs": [],
   "source": [
    "import numpy as np\n",
    "import pandas as pd\n",
    "import matplotlib.pyplot as plt\n",
    "%matplotlib inline"
   ]
  },
  {
   "cell_type": "code",
   "execution_count": 2,
   "metadata": {},
   "outputs": [],
   "source": [
    "df = pd.read_csv(\"epa-sea-level.csv\")"
   ]
  },
  {
   "cell_type": "code",
   "execution_count": 3,
   "metadata": {},
   "outputs": [
    {
     "data": {
      "text/html": [
       "<div>\n",
       "<style scoped>\n",
       "    .dataframe tbody tr th:only-of-type {\n",
       "        vertical-align: middle;\n",
       "    }\n",
       "\n",
       "    .dataframe tbody tr th {\n",
       "        vertical-align: top;\n",
       "    }\n",
       "\n",
       "    .dataframe thead th {\n",
       "        text-align: right;\n",
       "    }\n",
       "</style>\n",
       "<table border=\"1\" class=\"dataframe\">\n",
       "  <thead>\n",
       "    <tr style=\"text-align: right;\">\n",
       "      <th></th>\n",
       "      <th>Year</th>\n",
       "      <th>CSIRO Adjusted Sea Level</th>\n",
       "      <th>Lower Error Bound</th>\n",
       "      <th>Upper Error Bound</th>\n",
       "      <th>NOAA Adjusted Sea Level</th>\n",
       "    </tr>\n",
       "  </thead>\n",
       "  <tbody>\n",
       "    <tr>\n",
       "      <th>0</th>\n",
       "      <td>1880</td>\n",
       "      <td>0.000000</td>\n",
       "      <td>-0.952756</td>\n",
       "      <td>0.952756</td>\n",
       "      <td>NaN</td>\n",
       "    </tr>\n",
       "    <tr>\n",
       "      <th>1</th>\n",
       "      <td>1881</td>\n",
       "      <td>0.220472</td>\n",
       "      <td>-0.732283</td>\n",
       "      <td>1.173228</td>\n",
       "      <td>NaN</td>\n",
       "    </tr>\n",
       "    <tr>\n",
       "      <th>2</th>\n",
       "      <td>1882</td>\n",
       "      <td>-0.440945</td>\n",
       "      <td>-1.346457</td>\n",
       "      <td>0.464567</td>\n",
       "      <td>NaN</td>\n",
       "    </tr>\n",
       "    <tr>\n",
       "      <th>3</th>\n",
       "      <td>1883</td>\n",
       "      <td>-0.232283</td>\n",
       "      <td>-1.129921</td>\n",
       "      <td>0.665354</td>\n",
       "      <td>NaN</td>\n",
       "    </tr>\n",
       "    <tr>\n",
       "      <th>4</th>\n",
       "      <td>1884</td>\n",
       "      <td>0.590551</td>\n",
       "      <td>-0.283465</td>\n",
       "      <td>1.464567</td>\n",
       "      <td>NaN</td>\n",
       "    </tr>\n",
       "  </tbody>\n",
       "</table>\n",
       "</div>"
      ],
      "text/plain": [
       "   Year  CSIRO Adjusted Sea Level  Lower Error Bound  Upper Error Bound  \\\n",
       "0  1880                  0.000000          -0.952756           0.952756   \n",
       "1  1881                  0.220472          -0.732283           1.173228   \n",
       "2  1882                 -0.440945          -1.346457           0.464567   \n",
       "3  1883                 -0.232283          -1.129921           0.665354   \n",
       "4  1884                  0.590551          -0.283465           1.464567   \n",
       "\n",
       "   NOAA Adjusted Sea Level  \n",
       "0                      NaN  \n",
       "1                      NaN  \n",
       "2                      NaN  \n",
       "3                      NaN  \n",
       "4                      NaN  "
      ]
     },
     "execution_count": 3,
     "metadata": {},
     "output_type": "execute_result"
    }
   ],
   "source": [
    "df.head()"
   ]
  },
  {
   "cell_type": "code",
   "execution_count": 4,
   "metadata": {},
   "outputs": [
    {
     "data": {
      "text/plain": [
       "<AxesSubplot:xlabel='Year', ylabel='CSIRO Adjusted Sea Level'>"
      ]
     },
     "execution_count": 4,
     "metadata": {},
     "output_type": "execute_result"
    },
    {
     "data": {
      "image/png": "[encoded data removed]",
      "text/plain": [
       "<Figure size 432x288 with 1 Axes>"
      ]
     },
     "metadata": {
      "needs_background": "light"
     },
     "output_type": "display_data"
    }
   ],
   "source": [
    "df.plot('Year', 'CSIRO Adjusted Sea Level', kind='scatter')"
   ]
  },
  {
   "cell_type": "markdown",
   "metadata": {},
   "source": [
    "##### We will model the above equation based on the following equation:\n",
    "\n",
    "##### $ y = \\theta _{0} + \\theta _{1} \\cdot \\sqrt{x} + \\theta _{2} \\cdot x^{2} $\n",
    "\n",
    "##### The equation when graphed:"
   ]
  },
  {
   "cell_type": "code",
   "execution_count": 5,
   "metadata": {},
   "outputs": [
    {
     "data": {
      "image/png": "[encoded data removed]",
      "text/plain": [
       "<Figure size 432x288 with 1 Axes>"
      ]
     },
     "metadata": {
      "needs_background": "light"
     },
     "output_type": "display_data"
    }
   ],
   "source": [
    "x = np.arange(0, 11)\n",
    "plt.scatter(x, x**(1/2) + x**2)\n",
    "plt.show()"
   ]
  },
  {
   "cell_type": "markdown",
   "metadata": {},
   "source": [
    "### The below is an example of <font color=\"blue\">stochastic</font> gradient descent: modify the parameter based on <font color=\"blue\">one</font> training set, in one iteration."
   ]
  },
  {
   "cell_type": "code",
   "execution_count": 6,
   "metadata": {},
   "outputs": [
    {
     "name": "stdout",
     "output_type": "stream",
     "text": [
      "2.9755118526049447e-07\n",
      "1.8364352498689882e-06\n",
      "0.0005027535708534357\n"
     ]
    }
   ],
   "source": [
    "df_amount = len(df)\n",
    "t0 = 0\n",
    "t1 = 0\n",
    "t2 = 0\n",
    "learning_rate = 0.0000005\n",
    "\n",
    "\n",
    "for i in range(df_amount):\n",
    "    t0 = t0 - learning_rate * (1/df_amount) * (t0 + t1 * ((df.index[i])**(1/2)) + t2 * ((df.index[i])**(2)) - df['CSIRO Adjusted Sea Level'][i] )\n",
    "    t1 = t1 - learning_rate * (1/df_amount) * (t0 * ((df.index[i])**(1/2)) + t1 * (df.index[i]) + t2 * ((df.index[i])**(5/2)) - ((df.index[i])**(1/2)) * (df['CSIRO Adjusted Sea Level'][i]) )\n",
    "    t2 = t2 - learning_rate * (1/df_amount) * (t0 * ((df.index[i])**(2)) + t1 * ((df.index[i])**(5/2)) + t2 * ((df.index[i])**(4)) - ((df.index[i])**(2)) * (df['CSIRO Adjusted Sea Level'][i]) )\n",
    "    \n",
    "print(t0)\n",
    "print(t1)\n",
    "print(t2)"
   ]
  },
  {
   "cell_type": "code",
   "execution_count": 7,
   "metadata": {},
   "outputs": [
    {
     "data": {
      "image/png": "[encoded data removed]",
      "text/plain": [
       "<Figure size 720x360 with 1 Axes>"
      ]
     },
     "metadata": {
      "needs_background": "light"
     },
     "output_type": "display_data"
    }
   ],
   "source": [
    "x = np.arange(0, df_amount)\n",
    "\n",
    "fig, ax = plt.subplots(figsize = (10, 5))\n",
    "ax.plot(x, t0  + t1*(x**(1/2)) + t2*(x**2), c = 'blue')\n",
    "ax.scatter(x, df['CSIRO Adjusted Sea Level'], c = 'red')\n",
    "plt.show()"
   ]
  },
  {
   "cell_type": "markdown",
   "metadata": {},
   "source": [
    "##### If we were to predict the sea level at, for example, 2050.\n",
    "\n",
    "##### The last year on here is 2014, which is the 133rd element. 2050 is 2014 + 36, so 2050 is 133 + 36 = 169"
   ]
  },
  {
   "cell_type": "code",
   "execution_count": 8,
   "metadata": {},
   "outputs": [
    {
     "name": "stdout",
     "output_type": "stream",
     "text": [
      "14.35916890835441\n"
     ]
    }
   ],
   "source": [
    "print(t0  + t1*(169**(1/2)) + t2*(169**2))"
   ]
  },
  {
   "cell_type": "markdown",
   "metadata": {},
   "source": [
    "##### The predicted sea level in 2050 would be approximately 14 units."
   ]
  },
  {
   "cell_type": "markdown",
   "metadata": {},
   "source": [
    "### Now we attempt a <font color=\"blue\"> batch </font> gradient descent: where we modify the parameter based on a <font color=\"blue\"> sum of the whole training set </font> in one iteration.\n",
    "\n",
    "##### In this one, I will also take out the (1/df_size), to test the difference."
   ]
  },
  {
   "cell_type": "code",
   "execution_count": 9,
   "metadata": {},
   "outputs": [],
   "source": [
    "def sum_training_set_t0(theta0, theta1, theta2):\n",
    "    \n",
    "    df_size = len(df)\n",
    "    sum_value = 0\n",
    "    \n",
    "    for i in range(df_size):\n",
    "        sum_value += (theta0 + theta1 * ((df.index[i])**(1/2)) + theta2 * ((df.index[i])**(2)) - df['CSIRO Adjusted Sea Level'][i] )\n",
    "        \n",
    "    return sum_value\n",
    "        "
   ]
  },
  {
   "cell_type": "code",
   "execution_count": 10,
   "metadata": {},
   "outputs": [],
   "source": [
    "def sum_training_set_t1(theta0, theta1, theta2):\n",
    "    \n",
    "    df_size = len(df)\n",
    "    sum_value = 0\n",
    "    \n",
    "    for i in range(df_size):\n",
    "        sum_value += (theta0 * ((df.index[i])**(1/2)) + theta1 * (df.index[i]) + theta2 * ((df.index[i])**(5/2)) - ((df.index[i])**(1/2)) * (df['CSIRO Adjusted Sea Level'][i]) )\n",
    "        \n",
    "    return sum_value"
   ]
  },
  {
   "cell_type": "code",
   "execution_count": 11,
   "metadata": {},
   "outputs": [],
   "source": [
    "def sum_training_set_t2(theta0, theta1, theta2):\n",
    "    \n",
    "    df_size = len(df)\n",
    "    sum_value = 0\n",
    "    \n",
    "    for i in range(df_size):\n",
    "        sum_value += (theta0 * ((df.index[i])**(2)) + theta1 * ((df.index[i])**(5/2)) + theta2 * ((df.index[i])**(4)) - ((df.index[i])**(2)) * (df['CSIRO Adjusted Sea Level'][i]) )\n",
    "        \n",
    "    return sum_value"
   ]
  },
  {
   "cell_type": "code",
   "execution_count": 12,
   "metadata": {},
   "outputs": [
    {
     "name": "stdout",
     "output_type": "stream",
     "text": [
      "2.1770071705801734e-07\n",
      "1.4671196005817184e-06\n",
      "0.0005467569870868304\n"
     ]
    }
   ],
   "source": [
    "df_amount = len(df)\n",
    "t0 = 0\n",
    "t1 = 0\n",
    "t2 = 0\n",
    "learning_rate = 0.000000000003\n",
    "\n",
    "\n",
    "for i in range(1000):\n",
    "    t0 = t0 - learning_rate * sum_training_set_t0(t0, t1, t2)\n",
    "    t1 = t1 - learning_rate * sum_training_set_t1(t0, t1, t2)\n",
    "    t2 = t2 - learning_rate * sum_training_set_t2(t0, t1, t2)\n",
    "    \n",
    "print(t0)\n",
    "print(t1)\n",
    "print(t2)"
   ]
  },
  {
   "cell_type": "code",
   "execution_count": 13,
   "metadata": {},
   "outputs": [
    {
     "data": {
      "image/png": "[encoded data removed]",
      "text/plain": [
       "<Figure size 720x360 with 1 Axes>"
      ]
     },
     "metadata": {
      "needs_background": "light"
     },
     "output_type": "display_data"
    }
   ],
   "source": [
    "x = np.arange(0, df_amount)\n",
    "\n",
    "fig, ax = plt.subplots(figsize = (10, 5))\n",
    "ax.plot(x, t0  + t1*(x**(1/2)) + t2*(x**2), c = 'blue')\n",
    "ax.scatter(x, df['CSIRO Adjusted Sea Level'], c = 'red')\n",
    "plt.show()"
   ]
  },
  {
   "cell_type": "code",
   "execution_count": 14,
   "metadata": {},
   "outputs": [
    {
     "name": "stdout",
     "output_type": "stream",
     "text": [
      "15.615945598442487\n"
     ]
    }
   ],
   "source": [
    "print(t0  + t1*(169**(1/2)) + t2*(169**2))"
   ]
  },
  {
   "cell_type": "code",
   "execution_count": 15,
   "metadata": {},
   "outputs": [
    {
     "data": {
      "text/html": [
       "<div>\n",
       "<style scoped>\n",
       "    .dataframe tbody tr th:only-of-type {\n",
       "        vertical-align: middle;\n",
       "    }\n",
       "\n",
       "    .dataframe tbody tr th {\n",
       "        vertical-align: top;\n",
       "    }\n",
       "\n",
       "    .dataframe thead th {\n",
       "        text-align: right;\n",
       "    }\n",
       "</style>\n",
       "<table border=\"1\" class=\"dataframe\">\n",
       "  <thead>\n",
       "    <tr style=\"text-align: right;\">\n",
       "      <th></th>\n",
       "      <th>Year</th>\n",
       "      <th>CSIRO Adjusted Sea Level</th>\n",
       "      <th>Lower Error Bound</th>\n",
       "      <th>Upper Error Bound</th>\n",
       "      <th>NOAA Adjusted Sea Level</th>\n",
       "    </tr>\n",
       "  </thead>\n",
       "  <tbody>\n",
       "    <tr>\n",
       "      <th>0</th>\n",
       "      <td>1880</td>\n",
       "      <td>0.000000</td>\n",
       "      <td>-0.952756</td>\n",
       "      <td>0.952756</td>\n",
       "      <td>NaN</td>\n",
       "    </tr>\n",
       "    <tr>\n",
       "      <th>1</th>\n",
       "      <td>1881</td>\n",
       "      <td>0.220472</td>\n",
       "      <td>-0.732283</td>\n",
       "      <td>1.173228</td>\n",
       "      <td>NaN</td>\n",
       "    </tr>\n",
       "    <tr>\n",
       "      <th>2</th>\n",
       "      <td>1882</td>\n",
       "      <td>-0.440945</td>\n",
       "      <td>-1.346457</td>\n",
       "      <td>0.464567</td>\n",
       "      <td>NaN</td>\n",
       "    </tr>\n",
       "    <tr>\n",
       "      <th>3</th>\n",
       "      <td>1883</td>\n",
       "      <td>-0.232283</td>\n",
       "      <td>-1.129921</td>\n",
       "      <td>0.665354</td>\n",
       "      <td>NaN</td>\n",
       "    </tr>\n",
       "    <tr>\n",
       "      <th>4</th>\n",
       "      <td>1884</td>\n",
       "      <td>0.590551</td>\n",
       "      <td>-0.283465</td>\n",
       "      <td>1.464567</td>\n",
       "      <td>NaN</td>\n",
       "    </tr>\n",
       "  </tbody>\n",
       "</table>\n",
       "</div>"
      ],
      "text/plain": [
       "   Year  CSIRO Adjusted Sea Level  Lower Error Bound  Upper Error Bound  \\\n",
       "0  1880                  0.000000          -0.952756           0.952756   \n",
       "1  1881                  0.220472          -0.732283           1.173228   \n",
       "2  1882                 -0.440945          -1.346457           0.464567   \n",
       "3  1883                 -0.232283          -1.129921           0.665354   \n",
       "4  1884                  0.590551          -0.283465           1.464567   \n",
       "\n",
       "   NOAA Adjusted Sea Level  \n",
       "0                      NaN  \n",
       "1                      NaN  \n",
       "2                      NaN  \n",
       "3                      NaN  \n",
       "4                      NaN  "
      ]
     },
     "execution_count": 15,
     "metadata": {},
     "output_type": "execute_result"
    }
   ],
   "source": [
    "df.head()"
   ]
  },
  {
   "cell_type": "markdown",
   "metadata": {},
   "source": [
    "### Lets try to predict the sea level in 2050 with locally weighted regression instead."
   ]
  },
  {
   "cell_type": "markdown",
   "metadata": {},
   "source": [
    "##### For locally weighted regression:\n"
   ]
  },
  {
   "cell_type": "markdown",
   "metadata": {},
   "source": [
    "##### We want to minimize the following function:"
   ]
  },
  {
   "cell_type": "markdown",
   "metadata": {},
   "source": [
    "$ \\frac{1}{2m} \\displaystyle \\sum _{i=1} ^{m} w^{(i)} \\cdot [h_{\\theta}(x) - y^{(i)}] $ where $ h_{\\theta}(x) = \\theta ^{T} x $ and $ w^{(i)} = e^{\\frac{-(x^{(i)} - x)^{2}}{2u^{2}}} $ "
   ]
  },
  {
   "cell_type": "markdown",
   "metadata": {},
   "source": [
    "$ \\theta ^{T} x = \\theta _{0} + \\theta _{1} x $"
   ]
  },
  {
   "cell_type": "markdown",
   "metadata": {},
   "source": [
    "##### The 'x' in $ w^{(i)} $ is I believe the 'x' we want to predict."
   ]
  },
  {
   "cell_type": "markdown",
   "metadata": {},
   "source": [
    "##### In $ w^{(i)} $ 'u' determines how wide or narrow the window is for factoring other data points."
   ]
  },
  {
   "cell_type": "markdown",
   "metadata": {},
   "source": [
    "##### Minimizing this would require us to take the partial derivatives with respect to all the $ \\theta $ parameters (only 2) :"
   ]
  },
  {
   "cell_type": "markdown",
   "metadata": {},
   "source": [
    "##### The partial derivative with respect to $ \\theta _{0} = \\frac{1}{m} \\displaystyle \\sum _{i=1} ^{m} e^{\\frac{-(x^{(i)} - x)^{2}}{2u^{2}}} \\cdot (\\theta _{0} + \\theta _{1} x^{(i)} - y^{(i)})  $\n",
    "\n",
    "##### The partial derivative with respect to $ \\theta _{1} = \\frac{1}{m} \\displaystyle \\sum _{i=1} ^{m} x^{(i)} \\cdot e^{\\frac{-(x^{(i)} - x)^{2}}{2u^{2}}} \\cdot (\\theta _{0} + \\theta _{1} x^{(i)} - y^{(i)})  $"
   ]
  },
  {
   "cell_type": "code",
   "execution_count": 16,
   "metadata": {},
   "outputs": [],
   "source": [
    "def sum_through_data_locally_weighted_t0(M, X, T0, T1, xi, yi, U):\n",
    "    import math\n",
    "    s = 0\n",
    "    for i in range(M):\n",
    "        s += math.e**( (-(xi[i] - X)**2) / 2*(u**2) ) * (t0 + t1*xi[i] - yi[i] )\n",
    "    \n",
    "    return s"
   ]
  },
  {
   "cell_type": "code",
   "execution_count": 17,
   "metadata": {},
   "outputs": [],
   "source": [
    "def sum_through_data_locally_weighted_t1(M, X, T0, T1, xi, yi, U):\n",
    "    import math\n",
    "    s = 0\n",
    "    for i in range(M):\n",
    "        s += xi[i] * (math.e**( (-(xi[i] - X)**2) / 2*(u**2) )) * (t0 + t1*xi[i] - yi[i] )\n",
    "    \n",
    "    return s"
   ]
  },
  {
   "cell_type": "code",
   "execution_count": 18,
   "metadata": {},
   "outputs": [
    {
     "name": "stdout",
     "output_type": "stream",
     "text": [
      "0.0005146450372530868\n",
      "0.0675919410265953\n"
     ]
    }
   ],
   "source": [
    "m = len(df)\n",
    "t0 = 0\n",
    "t1 = 0\n",
    "u = 0.101\n",
    "lr = 0.01\n",
    "x = 169  # 2050 would be the 169th index.\n",
    "    \n",
    "for i in range(1000):\n",
    "    t0 = t0 - lr * (1/m) * sum_through_data_locally_weighted_t0(m, x, t0, t1, df.index.values, df['CSIRO Adjusted Sea Level'], u)\n",
    "    t1 = t1 - lr * (1/m) * sum_through_data_locally_weighted_t1(m, x, t0, t1, df.index.values, df['CSIRO Adjusted Sea Level'], u)\n",
    "\n",
    "print(t0)\n",
    "print(t1)"
   ]
  },
  {
   "cell_type": "code",
   "execution_count": 19,
   "metadata": {},
   "outputs": [
    {
     "data": {
      "text/plain": [
       "[<matplotlib.lines.Line2D at 0x26acfd44850>]"
      ]
     },
     "execution_count": 19,
     "metadata": {},
     "output_type": "execute_result"
    },
    {
     "data": {
      "image/png": "[encoded data removed]",
      "text/plain": [
       "<Figure size 864x360 with 2 Axes>"
      ]
     },
     "metadata": {
      "needs_background": "light"
     },
     "output_type": "display_data"
    }
   ],
   "source": [
    "fig, ax = plt.subplots(2, 1, figsize = (12, 5))\n",
    "x = range(170)\n",
    "\n",
    "ax[0].scatter(df.index.values, df['CSIRO Adjusted Sea Level'])\n",
    "ax[0].plot(df.index.values, t0 + t1*(df.index.values))\n",
    "ax[1].plot(x, t0 + t1*x)"
   ]
  },
  {
   "cell_type": "markdown",
   "metadata": {},
   "source": [
    "##### The predicted sea level in 2050 would be:"
   ]
  },
  {
   "cell_type": "code",
   "execution_count": 20,
   "metadata": {},
   "outputs": [
    {
     "data": {
      "text/plain": [
       "11.423552678531859"
      ]
     },
     "execution_count": 20,
     "metadata": {},
     "output_type": "execute_result"
    }
   ],
   "source": [
    "t0 + t1*169"
   ]
  },
  {
   "cell_type": "markdown",
   "metadata": {},
   "source": [
    "### Lets try to make the prediction using SciKit Learn"
   ]
  },
  {
   "cell_type": "code",
   "execution_count": 21,
   "metadata": {},
   "outputs": [],
   "source": [
    "from sklearn.linear_model import LinearRegression"
   ]
  },
  {
   "cell_type": "code",
   "execution_count": 34,
   "metadata": {},
   "outputs": [],
   "source": [
    "mod = LinearRegression()"
   ]
  },
  {
   "cell_type": "code",
   "execution_count": 36,
   "metadata": {},
   "outputs": [
    {
     "ename": "ValueError",
     "evalue": "Expected 2D array, got 1D array instead:\narray=[1880 1881 1882 1883 1884 1885 1886 1887 1888 1889 1890 1891 1892 1893\n 1894 1895 1896 1897 1898 1899 1900 1901 1902 1903 1904 1905 1906 1907\n 1908 1909 1910 1911 1912 1913 1914 1915 1916 1917 1918 1919 1920 1921\n 1922 1923 1924 1925 1926 1927 1928 1929 1930 1931 1932 1933 1934 1935\n 1936 1937 1938 1939 1940 1941 1942 1943 1944 1945 1946 1947 1948 1949\n 1950 1951 1952 1953 1954 1955 1956 1957 1958 1959 1960 1961 1962 1963\n 1964 1965 1966 1967 1968 1969 1970 1971 1972 1973 1974 1975 1976 1977\n 1978 1979 1980 1981 1982 1983 1984 1985 1986 1987 1988 1989 1990 1991\n 1992 1993 1994 1995 1996 1997 1998 1999 2000 2001 2002 2003 2004 2005\n 2006 2007 2008 2009 2010 2011 2012 2013].\nReshape your data either using array.reshape(-1, 1) if your data has a single feature or array.reshape(1, -1) if it contains a single sample.",
     "output_type": "error",
     "traceback": [
      "\u001b[1;31m---------------------------------------------------------------------------\u001b[0m",
      "\u001b[1;31mValueError\u001b[0m                                Traceback (most recent call last)",
      "\u001b[1;32m<ipython-input-36-f06573c52915>\u001b[0m in \u001b[0;36m<module>\u001b[1;34m\u001b[0m\n\u001b[1;32m----> 1\u001b[1;33m \u001b[0mmod\u001b[0m\u001b[1;33m.\u001b[0m\u001b[0mfit\u001b[0m\u001b[1;33m(\u001b[0m\u001b[0mdf\u001b[0m\u001b[1;33m[\u001b[0m\u001b[1;34m'Year'\u001b[0m\u001b[1;33m]\u001b[0m\u001b[1;33m,\u001b[0m \u001b[0mdf\u001b[0m\u001b[1;33m[\u001b[0m\u001b[1;34m'CSIRO Adjusted Sea Level'\u001b[0m\u001b[1;33m]\u001b[0m\u001b[1;33m)\u001b[0m\u001b[1;33m\u001b[0m\u001b[1;33m\u001b[0m\u001b[0m\n\u001b[0m",
      "\u001b[1;32m~\\anaconda3\\lib\\site-packages\\sklearn\\linear_model\\_base.py\u001b[0m in \u001b[0;36mfit\u001b[1;34m(self, X, y, sample_weight)\u001b[0m\n\u001b[0;32m    503\u001b[0m \u001b[1;33m\u001b[0m\u001b[0m\n\u001b[0;32m    504\u001b[0m         \u001b[0mn_jobs_\u001b[0m \u001b[1;33m=\u001b[0m \u001b[0mself\u001b[0m\u001b[1;33m.\u001b[0m\u001b[0mn_jobs\u001b[0m\u001b[1;33m\u001b[0m\u001b[1;33m\u001b[0m\u001b[0m\n\u001b[1;32m--> 505\u001b[1;33m         X, y = self._validate_data(X, y, accept_sparse=['csr', 'csc', 'coo'],\n\u001b[0m\u001b[0;32m    506\u001b[0m                                    y_numeric=True, multi_output=True)\n\u001b[0;32m    507\u001b[0m \u001b[1;33m\u001b[0m\u001b[0m\n",
      "\u001b[1;32m~\\anaconda3\\lib\\site-packages\\sklearn\\base.py\u001b[0m in \u001b[0;36m_validate_data\u001b[1;34m(self, X, y, reset, validate_separately, **check_params)\u001b[0m\n\u001b[0;32m    430\u001b[0m                 \u001b[0my\u001b[0m \u001b[1;33m=\u001b[0m \u001b[0mcheck_array\u001b[0m\u001b[1;33m(\u001b[0m\u001b[0my\u001b[0m\u001b[1;33m,\u001b[0m \u001b[1;33m**\u001b[0m\u001b[0mcheck_y_params\u001b[0m\u001b[1;33m)\u001b[0m\u001b[1;33m\u001b[0m\u001b[1;33m\u001b[0m\u001b[0m\n\u001b[0;32m    431\u001b[0m             \u001b[1;32melse\u001b[0m\u001b[1;33m:\u001b[0m\u001b[1;33m\u001b[0m\u001b[1;33m\u001b[0m\u001b[0m\n\u001b[1;32m--> 432\u001b[1;33m                 \u001b[0mX\u001b[0m\u001b[1;33m,\u001b[0m \u001b[0my\u001b[0m \u001b[1;33m=\u001b[0m \u001b[0mcheck_X_y\u001b[0m\u001b[1;33m(\u001b[0m\u001b[0mX\u001b[0m\u001b[1;33m,\u001b[0m \u001b[0my\u001b[0m\u001b[1;33m,\u001b[0m \u001b[1;33m**\u001b[0m\u001b[0mcheck_params\u001b[0m\u001b[1;33m)\u001b[0m\u001b[1;33m\u001b[0m\u001b[1;33m\u001b[0m\u001b[0m\n\u001b[0m\u001b[0;32m    433\u001b[0m             \u001b[0mout\u001b[0m \u001b[1;33m=\u001b[0m \u001b[0mX\u001b[0m\u001b[1;33m,\u001b[0m \u001b[0my\u001b[0m\u001b[1;33m\u001b[0m\u001b[1;33m\u001b[0m\u001b[0m\n\u001b[0;32m    434\u001b[0m \u001b[1;33m\u001b[0m\u001b[0m\n",
      "\u001b[1;32m~\\anaconda3\\lib\\site-packages\\sklearn\\utils\\validation.py\u001b[0m in \u001b[0;36minner_f\u001b[1;34m(*args, **kwargs)\u001b[0m\n\u001b[0;32m     70\u001b[0m                           FutureWarning)\n\u001b[0;32m     71\u001b[0m         \u001b[0mkwargs\u001b[0m\u001b[1;33m.\u001b[0m\u001b[0mupdate\u001b[0m\u001b[1;33m(\u001b[0m\u001b[1;33m{\u001b[0m\u001b[0mk\u001b[0m\u001b[1;33m:\u001b[0m \u001b[0marg\u001b[0m \u001b[1;32mfor\u001b[0m \u001b[0mk\u001b[0m\u001b[1;33m,\u001b[0m \u001b[0marg\u001b[0m \u001b[1;32min\u001b[0m \u001b[0mzip\u001b[0m\u001b[1;33m(\u001b[0m\u001b[0msig\u001b[0m\u001b[1;33m.\u001b[0m\u001b[0mparameters\u001b[0m\u001b[1;33m,\u001b[0m \u001b[0margs\u001b[0m\u001b[1;33m)\u001b[0m\u001b[1;33m}\u001b[0m\u001b[1;33m)\u001b[0m\u001b[1;33m\u001b[0m\u001b[1;33m\u001b[0m\u001b[0m\n\u001b[1;32m---> 72\u001b[1;33m         \u001b[1;32mreturn\u001b[0m \u001b[0mf\u001b[0m\u001b[1;33m(\u001b[0m\u001b[1;33m**\u001b[0m\u001b[0mkwargs\u001b[0m\u001b[1;33m)\u001b[0m\u001b[1;33m\u001b[0m\u001b[1;33m\u001b[0m\u001b[0m\n\u001b[0m\u001b[0;32m     73\u001b[0m     \u001b[1;32mreturn\u001b[0m \u001b[0minner_f\u001b[0m\u001b[1;33m\u001b[0m\u001b[1;33m\u001b[0m\u001b[0m\n\u001b[0;32m     74\u001b[0m \u001b[1;33m\u001b[0m\u001b[0m\n",
      "\u001b[1;32m~\\anaconda3\\lib\\site-packages\\sklearn\\utils\\validation.py\u001b[0m in \u001b[0;36mcheck_X_y\u001b[1;34m(X, y, accept_sparse, accept_large_sparse, dtype, order, copy, force_all_finite, ensure_2d, allow_nd, multi_output, ensure_min_samples, ensure_min_features, y_numeric, estimator)\u001b[0m\n\u001b[0;32m    793\u001b[0m         \u001b[1;32mraise\u001b[0m \u001b[0mValueError\u001b[0m\u001b[1;33m(\u001b[0m\u001b[1;34m\"y cannot be None\"\u001b[0m\u001b[1;33m)\u001b[0m\u001b[1;33m\u001b[0m\u001b[1;33m\u001b[0m\u001b[0m\n\u001b[0;32m    794\u001b[0m \u001b[1;33m\u001b[0m\u001b[0m\n\u001b[1;32m--> 795\u001b[1;33m     X = check_array(X, accept_sparse=accept_sparse,\n\u001b[0m\u001b[0;32m    796\u001b[0m                     \u001b[0maccept_large_sparse\u001b[0m\u001b[1;33m=\u001b[0m\u001b[0maccept_large_sparse\u001b[0m\u001b[1;33m,\u001b[0m\u001b[1;33m\u001b[0m\u001b[1;33m\u001b[0m\u001b[0m\n\u001b[0;32m    797\u001b[0m                     \u001b[0mdtype\u001b[0m\u001b[1;33m=\u001b[0m\u001b[0mdtype\u001b[0m\u001b[1;33m,\u001b[0m \u001b[0morder\u001b[0m\u001b[1;33m=\u001b[0m\u001b[0morder\u001b[0m\u001b[1;33m,\u001b[0m \u001b[0mcopy\u001b[0m\u001b[1;33m=\u001b[0m\u001b[0mcopy\u001b[0m\u001b[1;33m,\u001b[0m\u001b[1;33m\u001b[0m\u001b[1;33m\u001b[0m\u001b[0m\n",
      "\u001b[1;32m~\\anaconda3\\lib\\site-packages\\sklearn\\utils\\validation.py\u001b[0m in \u001b[0;36minner_f\u001b[1;34m(*args, **kwargs)\u001b[0m\n\u001b[0;32m     70\u001b[0m                           FutureWarning)\n\u001b[0;32m     71\u001b[0m         \u001b[0mkwargs\u001b[0m\u001b[1;33m.\u001b[0m\u001b[0mupdate\u001b[0m\u001b[1;33m(\u001b[0m\u001b[1;33m{\u001b[0m\u001b[0mk\u001b[0m\u001b[1;33m:\u001b[0m \u001b[0marg\u001b[0m \u001b[1;32mfor\u001b[0m \u001b[0mk\u001b[0m\u001b[1;33m,\u001b[0m \u001b[0marg\u001b[0m \u001b[1;32min\u001b[0m \u001b[0mzip\u001b[0m\u001b[1;33m(\u001b[0m\u001b[0msig\u001b[0m\u001b[1;33m.\u001b[0m\u001b[0mparameters\u001b[0m\u001b[1;33m,\u001b[0m \u001b[0margs\u001b[0m\u001b[1;33m)\u001b[0m\u001b[1;33m}\u001b[0m\u001b[1;33m)\u001b[0m\u001b[1;33m\u001b[0m\u001b[1;33m\u001b[0m\u001b[0m\n\u001b[1;32m---> 72\u001b[1;33m         \u001b[1;32mreturn\u001b[0m \u001b[0mf\u001b[0m\u001b[1;33m(\u001b[0m\u001b[1;33m**\u001b[0m\u001b[0mkwargs\u001b[0m\u001b[1;33m)\u001b[0m\u001b[1;33m\u001b[0m\u001b[1;33m\u001b[0m\u001b[0m\n\u001b[0m\u001b[0;32m     73\u001b[0m     \u001b[1;32mreturn\u001b[0m \u001b[0minner_f\u001b[0m\u001b[1;33m\u001b[0m\u001b[1;33m\u001b[0m\u001b[0m\n\u001b[0;32m     74\u001b[0m \u001b[1;33m\u001b[0m\u001b[0m\n",
      "\u001b[1;32m~\\anaconda3\\lib\\site-packages\\sklearn\\utils\\validation.py\u001b[0m in \u001b[0;36mcheck_array\u001b[1;34m(array, accept_sparse, accept_large_sparse, dtype, order, copy, force_all_finite, ensure_2d, allow_nd, ensure_min_samples, ensure_min_features, estimator)\u001b[0m\n\u001b[0;32m    617\u001b[0m             \u001b[1;31m# If input is 1D raise error\u001b[0m\u001b[1;33m\u001b[0m\u001b[1;33m\u001b[0m\u001b[1;33m\u001b[0m\u001b[0m\n\u001b[0;32m    618\u001b[0m             \u001b[1;32mif\u001b[0m \u001b[0marray\u001b[0m\u001b[1;33m.\u001b[0m\u001b[0mndim\u001b[0m \u001b[1;33m==\u001b[0m \u001b[1;36m1\u001b[0m\u001b[1;33m:\u001b[0m\u001b[1;33m\u001b[0m\u001b[1;33m\u001b[0m\u001b[0m\n\u001b[1;32m--> 619\u001b[1;33m                 raise ValueError(\n\u001b[0m\u001b[0;32m    620\u001b[0m                     \u001b[1;34m\"Expected 2D array, got 1D array instead:\\narray={}.\\n\"\u001b[0m\u001b[1;33m\u001b[0m\u001b[1;33m\u001b[0m\u001b[0m\n\u001b[0;32m    621\u001b[0m                     \u001b[1;34m\"Reshape your data either using array.reshape(-1, 1) if \"\u001b[0m\u001b[1;33m\u001b[0m\u001b[1;33m\u001b[0m\u001b[0m\n",
      "\u001b[1;31mValueError\u001b[0m: Expected 2D array, got 1D array instead:\narray=[1880 1881 1882 1883 1884 1885 1886 1887 1888 1889 1890 1891 1892 1893\n 1894 1895 1896 1897 1898 1899 1900 1901 1902 1903 1904 1905 1906 1907\n 1908 1909 1910 1911 1912 1913 1914 1915 1916 1917 1918 1919 1920 1921\n 1922 1923 1924 1925 1926 1927 1928 1929 1930 1931 1932 1933 1934 1935\n 1936 1937 1938 1939 1940 1941 1942 1943 1944 1945 1946 1947 1948 1949\n 1950 1951 1952 1953 1954 1955 1956 1957 1958 1959 1960 1961 1962 1963\n 1964 1965 1966 1967 1968 1969 1970 1971 1972 1973 1974 1975 1976 1977\n 1978 1979 1980 1981 1982 1983 1984 1985 1986 1987 1988 1989 1990 1991\n 1992 1993 1994 1995 1996 1997 1998 1999 2000 2001 2002 2003 2004 2005\n 2006 2007 2008 2009 2010 2011 2012 2013].\nReshape your data either using array.reshape(-1, 1) if your data has a single feature or array.reshape(1, -1) if it contains a single sample."
     ]
    }
   ],
   "source": [
    "mod.fit(df['Year'], df['CSIRO Adjusted Sea Level'])"
   ]
  },
  {
   "cell_type": "markdown",
   "metadata": {},
   "source": [
    "### The solution to the above error:"
   ]
  },
  {
   "cell_type": "code",
   "execution_count": 39,
   "metadata": {},
   "outputs": [
    {
     "data": {
      "text/plain": [
       "(134,)"
      ]
     },
     "execution_count": 39,
     "metadata": {},
     "output_type": "execute_result"
    }
   ],
   "source": [
    "df['Year'].shape"
   ]
  },
  {
   "cell_type": "markdown",
   "metadata": {},
   "source": [
    "##### Notice that the shape has no value for the 2nd element after the comma."
   ]
  },
  {
   "cell_type": "markdown",
   "metadata": {},
   "source": [
    "##### To fix this, change the array to a numpy array, then reshape it to (-1, 1) as the error suggests."
   ]
  },
  {
   "cell_type": "code",
   "execution_count": 74,
   "metadata": {},
   "outputs": [],
   "source": [
    "X = np.array(df['Year'])"
   ]
  },
  {
   "cell_type": "code",
   "execution_count": 75,
   "metadata": {},
   "outputs": [
    {
     "data": {
      "text/plain": [
       "numpy.ndarray"
      ]
     },
     "execution_count": 75,
     "metadata": {},
     "output_type": "execute_result"
    }
   ],
   "source": [
    "type(X)"
   ]
  },
  {
   "cell_type": "code",
   "execution_count": 76,
   "metadata": {},
   "outputs": [],
   "source": [
    "X = X.reshape(-1, 1)"
   ]
  },
  {
   "cell_type": "code",
   "execution_count": 77,
   "metadata": {},
   "outputs": [
    {
     "data": {
      "text/plain": [
       "(134, 1)"
      ]
     },
     "execution_count": 77,
     "metadata": {},
     "output_type": "execute_result"
    }
   ],
   "source": [
    "X.shape"
   ]
  },
  {
   "cell_type": "code",
   "execution_count": 78,
   "metadata": {},
   "outputs": [
    {
     "data": {
      "text/plain": [
       "2"
      ]
     },
     "execution_count": 78,
     "metadata": {},
     "output_type": "execute_result"
    }
   ],
   "source": [
    "X.ndim"
   ]
  },
  {
   "cell_type": "markdown",
   "metadata": {},
   "source": [
    "##### Error fixed :)"
   ]
  },
  {
   "cell_type": "code",
   "execution_count": 79,
   "metadata": {},
   "outputs": [
    {
     "data": {
      "text/plain": [
       "LinearRegression()"
      ]
     },
     "execution_count": 79,
     "metadata": {},
     "output_type": "execute_result"
    }
   ],
   "source": [
    "mod.fit(X, df['CSIRO Adjusted Sea Level'])"
   ]
  },
  {
   "cell_type": "code",
   "execution_count": 80,
   "metadata": {},
   "outputs": [
    {
     "data": {
      "text/plain": [
       "array([2014, 2015, 2016, 2017, 2018, 2019, 2020, 2021, 2022, 2023, 2024,\n",
       "       2025, 2026, 2027, 2028, 2029, 2030, 2031, 2032, 2033, 2034, 2035,\n",
       "       2036, 2037, 2038, 2039, 2040, 2041, 2042, 2043, 2044, 2045, 2046,\n",
       "       2047, 2048, 2049, 2050])"
      ]
     },
     "execution_count": 80,
     "metadata": {},
     "output_type": "execute_result"
    }
   ],
   "source": [
    "np.arange(2014, 2051)"
   ]
  },
  {
   "cell_type": "code",
   "execution_count": 81,
   "metadata": {},
   "outputs": [],
   "source": [
    "X_prediction = np.append(X, values=np.arange(2014, 2051))"
   ]
  },
  {
   "cell_type": "code",
   "execution_count": 82,
   "metadata": {},
   "outputs": [
    {
     "data": {
      "text/plain": [
       "array([1880, 1881, 1882, 1883, 1884, 1885, 1886, 1887, 1888, 1889, 1890,\n",
       "       1891, 1892, 1893, 1894, 1895, 1896, 1897, 1898, 1899, 1900, 1901,\n",
       "       1902, 1903, 1904, 1905, 1906, 1907, 1908, 1909, 1910, 1911, 1912,\n",
       "       1913, 1914, 1915, 1916, 1917, 1918, 1919, 1920, 1921, 1922, 1923,\n",
       "       1924, 1925, 1926, 1927, 1928, 1929, 1930, 1931, 1932, 1933, 1934,\n",
       "       1935, 1936, 1937, 1938, 1939, 1940, 1941, 1942, 1943, 1944, 1945,\n",
       "       1946, 1947, 1948, 1949, 1950, 1951, 1952, 1953, 1954, 1955, 1956,\n",
       "       1957, 1958, 1959, 1960, 1961, 1962, 1963, 1964, 1965, 1966, 1967,\n",
       "       1968, 1969, 1970, 1971, 1972, 1973, 1974, 1975, 1976, 1977, 1978,\n",
       "       1979, 1980, 1981, 1982, 1983, 1984, 1985, 1986, 1987, 1988, 1989,\n",
       "       1990, 1991, 1992, 1993, 1994, 1995, 1996, 1997, 1998, 1999, 2000,\n",
       "       2001, 2002, 2003, 2004, 2005, 2006, 2007, 2008, 2009, 2010, 2011,\n",
       "       2012, 2013, 2014, 2015, 2016, 2017, 2018, 2019, 2020, 2021, 2022,\n",
       "       2023, 2024, 2025, 2026, 2027, 2028, 2029, 2030, 2031, 2032, 2033,\n",
       "       2034, 2035, 2036, 2037, 2038, 2039, 2040, 2041, 2042, 2043, 2044,\n",
       "       2045, 2046, 2047, 2048, 2049, 2050], dtype=int64)"
      ]
     },
     "execution_count": 82,
     "metadata": {},
     "output_type": "execute_result"
    }
   ],
   "source": [
    "X_prediction"
   ]
  },
  {
   "cell_type": "code",
   "execution_count": 84,
   "metadata": {},
   "outputs": [],
   "source": [
    "X_prediction = X_prediction.reshape(-1, 1)"
   ]
  },
  {
   "cell_type": "code",
   "execution_count": 85,
   "metadata": {},
   "outputs": [
    {
     "data": {
      "text/plain": [
       "array([-0.54212402, -0.47907944, -0.41603486, -0.35299027, -0.28994569,\n",
       "       -0.2269011 , -0.16385652, -0.10081194, -0.03776735,  0.02527723,\n",
       "        0.08832182,  0.1513664 ,  0.21441098,  0.27745557,  0.34050015,\n",
       "        0.40354474,  0.46658932,  0.5296339 ,  0.59267849,  0.65572307,\n",
       "        0.71876766,  0.78181224,  0.84485682,  0.90790141,  0.97094599,\n",
       "        1.03399058,  1.09703516,  1.16007974,  1.22312433,  1.28616891,\n",
       "        1.3492135 ,  1.41225808,  1.47530266,  1.53834725,  1.60139183,\n",
       "        1.66443642,  1.727481  ,  1.79052558,  1.85357017,  1.91661475,\n",
       "        1.97965934,  2.04270392,  2.1057485 ,  2.16879309,  2.23183767,\n",
       "        2.29488226,  2.35792684,  2.42097142,  2.48401601,  2.54706059,\n",
       "        2.61010518,  2.67314976,  2.73619434,  2.79923893,  2.86228351,\n",
       "        2.9253281 ,  2.98837268,  3.05141726,  3.11446185,  3.17750643,\n",
       "        3.24055102,  3.3035956 ,  3.36664018,  3.42968477,  3.49272935,\n",
       "        3.55577394,  3.61881852,  3.6818631 ,  3.74490769,  3.80795227,\n",
       "        3.87099686,  3.93404144,  3.99708602,  4.06013061,  4.12317519,\n",
       "        4.18621978,  4.24926436,  4.31230894,  4.37535353,  4.43839811,\n",
       "        4.5014427 ,  4.56448728,  4.62753186,  4.69057645,  4.75362103,\n",
       "        4.81666562,  4.8797102 ,  4.94275478,  5.00579937,  5.06884395,\n",
       "        5.13188854,  5.19493312,  5.2579777 ,  5.32102229,  5.38406687,\n",
       "        5.44711146,  5.51015604,  5.57320062,  5.63624521,  5.69928979,\n",
       "        5.76233438,  5.82537896,  5.88842354,  5.95146813,  6.01451271,\n",
       "        6.0775573 ,  6.14060188,  6.20364646,  6.26669105,  6.32973563,\n",
       "        6.39278022,  6.4558248 ,  6.51886938,  6.58191397,  6.64495855,\n",
       "        6.70800314,  6.77104772,  6.8340923 ,  6.89713689,  6.96018147,\n",
       "        7.02322606,  7.08627064,  7.14931522,  7.21235981,  7.27540439,\n",
       "        7.33844898,  7.40149356,  7.46453814,  7.52758273,  7.59062731,\n",
       "        7.6536719 ,  7.71671648,  7.77976106,  7.84280565,  7.90585023,\n",
       "        7.96889482,  8.0319394 ,  8.09498398,  8.15802857,  8.22107315,\n",
       "        8.28411774,  8.34716232,  8.4102069 ,  8.47325149,  8.53629607,\n",
       "        8.59934066,  8.66238524,  8.72542982,  8.78847441,  8.85151899,\n",
       "        8.91456358,  8.97760816,  9.04065274,  9.10369733,  9.16674191,\n",
       "        9.2297865 ,  9.29283108,  9.35587566,  9.41892025,  9.48196483,\n",
       "        9.54500942,  9.608054  ,  9.67109859,  9.73414317,  9.79718775,\n",
       "        9.86023234,  9.92327692,  9.98632151, 10.04936609, 10.11241067,\n",
       "       10.17545526])"
      ]
     },
     "execution_count": 85,
     "metadata": {},
     "output_type": "execute_result"
    }
   ],
   "source": [
    "mod.predict(X_prediction)"
   ]
  },
  {
   "cell_type": "code",
   "execution_count": 91,
   "metadata": {},
   "outputs": [
    {
     "data": {
      "text/plain": [
       "<matplotlib.collections.PathCollection at 0x26ad43c3130>"
      ]
     },
     "execution_count": 91,
     "metadata": {},
     "output_type": "execute_result"
    },
    {
     "data": {
      "image/png": "[encoded data removed]",
      "text/plain": [
       "<Figure size 864x360 with 1 Axes>"
      ]
     },
     "metadata": {
      "needs_background": "light"
     },
     "output_type": "display_data"
    }
   ],
   "source": [
    "fig, ax = plt.subplots(figsize=(12, 5))\n",
    "\n",
    "ax.plot(X_prediction, mod.predict(X_prediction))\n",
    "ax.scatter(df['Year'], df['CSIRO Adjusted Sea Level'])"
   ]
  }
 ],
 "metadata": {
  "kernelspec": {
   "display_name": "Python 3",
   "language": "python",
   "name": "python3"
  },
  "language_info": {
   "codemirror_mode": {
    "name": "ipython",
    "version": 3
   },
   "file_extension": ".py",
   "mimetype": "text/x-python",
   "name": "python",
   "nbconvert_exporter": "python",
   "pygments_lexer": "ipython3",
   "version": "3.8.5"
  }
 },
 "nbformat": 4,
 "nbformat_minor": 4
}
